{
 "cells": [
  {
   "cell_type": "markdown",
   "id": "e4f6130e-06bb-4c74-897a-7cb0615b0185",
   "metadata": {},
   "source": [
    "URL: https://www.youtube.com/watch?v=tOnsaOQCNxs"
   ]
  },
  {
   "cell_type": "markdown",
   "id": "a33939ba-2162-4e30-9874-09239efc74df",
   "metadata": {},
   "source": [
    "### Futures Contracts:\n",
    "Futures are agreements between two parties to buy or sell an asset (such as commodities, currencies, or financial instruments) at a predetermined price on a specified future date.\n",
    "- These contracts are traded on exchanges and are standardized in terms of contract size, expiration date, and other specifications.\n",
    "- Futures allow investors to speculate on price movements or hedge against risk.\n",
    "\n",
    "URL: https://www.youtube.com/watch?v=LSnQnhg2bgQ"
   ]
  },
  {
   "cell_type": "code",
   "execution_count": null,
   "id": "7475a5dc-14a0-4d1d-8263-1013b82a39c2",
   "metadata": {},
   "outputs": [],
   "source": []
  }
 ],
 "metadata": {
  "kernelspec": {
   "display_name": "Python 3 (ipykernel)",
   "language": "python",
   "name": "python3"
  },
  "language_info": {
   "codemirror_mode": {
    "name": "ipython",
    "version": 3
   },
   "file_extension": ".py",
   "mimetype": "text/x-python",
   "name": "python",
   "nbconvert_exporter": "python",
   "pygments_lexer": "ipython3",
   "version": "3.11.5"
  }
 },
 "nbformat": 4,
 "nbformat_minor": 5
}
