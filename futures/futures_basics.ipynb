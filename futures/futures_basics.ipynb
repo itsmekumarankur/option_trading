{
 "cells": [
  {
   "cell_type": "markdown",
   "id": "e4f6130e-06bb-4c74-897a-7cb0615b0185",
   "metadata": {},
   "source": [
    "URL: https://www.youtube.com/watch?v=tOnsaOQCNxs"
   ]
  },
  {
   "cell_type": "code",
   "execution_count": null,
   "id": "12257ef0-9e10-4577-85af-c488628bf96b",
   "metadata": {},
   "outputs": [],
   "source": []
  }
 ],
 "metadata": {
  "kernelspec": {
   "display_name": "Python 3 (ipykernel)",
   "language": "python",
   "name": "python3"
  },
  "language_info": {
   "codemirror_mode": {
    "name": "ipython",
    "version": 3
   },
   "file_extension": ".py",
   "mimetype": "text/x-python",
   "name": "python",
   "nbconvert_exporter": "python",
   "pygments_lexer": "ipython3",
   "version": "3.11.5"
  }
 },
 "nbformat": 4,
 "nbformat_minor": 5
}
