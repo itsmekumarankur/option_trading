{
 "cells": [
  {
   "cell_type": "markdown",
   "id": "5915300f-30f5-4a82-81ce-436f3f9c49f2",
   "metadata": {
    "tags": []
   },
   "source": [
    "### Forwards Contracts:\n",
    "Forward contracts are customized agreements between two parties to buy or sell an asset at a future date.\n",
    "- Unlike futures, forwards are not standardized and are traded over-the-counter.\n",
    "- They allow for more flexibility in terms of contract terms and underlying assets."
   ]
  },
  {
   "cell_type": "code",
   "execution_count": null,
   "id": "1c27fd42-6f8e-4f7f-ad93-0153f31d1a82",
   "metadata": {},
   "outputs": [],
   "source": []
  }
 ],
 "metadata": {
  "kernelspec": {
   "display_name": "Python 3 (ipykernel)",
   "language": "python",
   "name": "python3"
  },
  "language_info": {
   "codemirror_mode": {
    "name": "ipython",
    "version": 3
   },
   "file_extension": ".py",
   "mimetype": "text/x-python",
   "name": "python",
   "nbconvert_exporter": "python",
   "pygments_lexer": "ipython3",
   "version": "3.11.5"
  }
 },
 "nbformat": 4,
 "nbformat_minor": 5
}
