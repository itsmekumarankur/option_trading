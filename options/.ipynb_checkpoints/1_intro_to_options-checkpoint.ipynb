{
 "cells": [
  {
   "cell_type": "markdown",
   "id": "508e7411-f9a8-4646-a114-cd5b68e7602d",
   "metadata": {},
   "source": [
    "### Introduction to Options:\n",
    "\n",
    "- What are options?\n",
    "- Difference between options and stocks.\n",
    "- Basic terminology: calls, puts, strike price, expiration date, premium, etc."
   ]
  },
  {
   "cell_type": "code",
   "execution_count": 4,
   "id": "f316e47b-7e9a-4550-98a2-98b7ad8a7ae9",
   "metadata": {
    "tags": []
   },
   "outputs": [],
   "source": [
    "\n"
   ]
  },
  {
   "cell_type": "code",
   "execution_count": 5,
   "id": "1b2c0f3c-30a8-4f0a-955c-76d46231b367",
   "metadata": {
    "tags": []
   },
   "outputs": [
    {
     "name": "stdout",
     "output_type": "stream",
     "text": [
      "- Options are financial derivatives that give the holder the right, but not the obligation, to buy or sell an underlying asset at a predetermined price (the strike price) within a specified period (until expiration).\n",
      "\n",
      "\n",
      "- Options are derivatives, while stocks represent ownership in a company.\n",
      "- When you buy a stock, you become a partial owner of the company and share in its profits and losses.\n",
      "- On the other hand, when you buy an option, you are purchasing the right to buy or sell the stock at a specific price, but you do not own the stock itself.\n",
      "- Options typically have expiration dates, while stocks can be held indefinitely.\n"
     ]
    }
   ],
   "source": [
    "# Call the functions to explain options and the difference between options and stocks\n",
    "explain_options()\n",
    "print(\"\\n\")\n",
    "explain_difference()\n"
   ]
  },
  {
   "cell_type": "code",
   "execution_count": null,
   "id": "ca39cb28-a0b0-49f4-8ad5-95d691dc0630",
   "metadata": {
    "tags": []
   },
   "outputs": [
    {
     "name": "stdout",
     "output_type": "stream",
     "text": [
      "Options: are financial derivatives that give the holder the right, but not the obligation, to buy or sell an underlying asset at a predetermined price (the strike price) within a specified period (until expiration).\n",
      "difference between options and stocks ?\n",
      "\n",
      "- Options are derivatives, while stocks represent ownership in a company.\n",
      "- When you buy a stock, you become a partial owner of the company and share in its profits and losses.\n",
      "- On the other hand, when you buy an option, you are purchasing the right to buy or sell the stock at a specific price, but you do not own the stock itself.\n",
      "- Options typically have expiration dates, while stocks can be held indefinitely.\n",
      "Calls: give you the right to 'call' away the underlying asset at a specified price.\n",
      "Puts: give you the right to 'put' the underlying asset to someone else at a specified price.\n",
      "The strike price: is the price at which the option holder can buy (for calls) or sell (for puts) the underlying asset.\n",
      "The expiration date: is the date by which the option must be exercised or it becomes worthless.\n",
      "The premium: is the price paid to buy the option. It represents the cost of the option contract.\n"
     ]
    }
   ],
   "source": [
    "import time\n",
    "\n",
    "class OptionsExplanation:\n",
    "    def __init__(self):\n",
    "        self.options = \"Options: are financial derivatives that give the holder the right, but not the obligation, to buy or sell an underlying asset at a predetermined price (the strike price) within a specified period (until expiration).\\n\"\n",
    "        self.calls = \"Calls: give you the right to 'call' away the underlying asset at a specified price.\\n\"\n",
    "        self.puts = \"Puts: give you the right to 'put' the underlying asset to someone else at a specified price.\\n\"\n",
    "        self.strike_price = \"The strike price: is the price at which the option holder can buy (for calls) or sell (for puts) the underlying asset.\\n\"\n",
    "        self.expiration_date = \"The expiration date: is the date by which the option must be exercised or it becomes worthless.\\n\"\n",
    "        self.premium = \"The premium: is the price paid to buy the option. It represents the cost of the option contract.\\n\"\n",
    "\n",
    "    def explain_optionsvs_stocks(self):\n",
    "        print(\"difference between options and stocks ?\\n\")\n",
    "        print(\"- Options are derivatives, while stocks represent ownership in a company.\")\n",
    "        print(\"- When you buy a stock, you become a partial owner of the company and share in its profits and losses.\")\n",
    "        print(\"- On the other hand, when you buy an option, you are purchasing the right to buy or sell the stock at a specific price, but you do not own the stock itself.\")\n",
    "        print(\"- Options typically have expiration dates, while stocks can be held indefinitely.\")\n",
    "    def explain_options(self):\n",
    "        print(self.options)\n",
    "    def explain_calls(self):\n",
    "        print(self.calls)\n",
    "    \n",
    "    def explain_puts(self):\n",
    "        print(self.puts)\n",
    "\n",
    "    def explain_strike_price(self):\n",
    "        print(self.strike_price)\n",
    "\n",
    "    def explain_expiration_date(self):\n",
    "        print(self.expiration_date)\n",
    "\n",
    "    def explain_premium(self):\n",
    "        print(self.premium)\n",
    "\n",
    "# Create an instance of OptionsExplanation\n",
    "options_explanation = OptionsExplanation()\n",
    "\n",
    "# Define a list of explanation methods\n",
    "explanation_methods = [\n",
    "    options_explanation.explain_options,\n",
    "    options_explanation.explain_optionsvs_stocks,\n",
    "    options_explanation.explain_calls,\n",
    "    options_explanation.explain_puts,\n",
    "    options_explanation.explain_strike_price,\n",
    "    options_explanation.explain_expiration_date,\n",
    "    options_explanation.explain_premium\n",
    "]\n",
    "\n",
    "# Execute each explanation method every 10 seconds\n",
    "for method in explanation_methods:\n",
    "    method()\n",
    "    time.sleep(10)\n",
    "\n"
   ]
  },
  {
   "cell_type": "code",
   "execution_count": null,
   "id": "3b25c978-70c1-4d9b-822d-756dd1b86f2d",
   "metadata": {},
   "outputs": [],
   "source": []
  }
 ],
 "metadata": {
  "kernelspec": {
   "display_name": "Python 3 (ipykernel)",
   "language": "python",
   "name": "python3"
  },
  "language_info": {
   "codemirror_mode": {
    "name": "ipython",
    "version": 3
   },
   "file_extension": ".py",
   "mimetype": "text/x-python",
   "name": "python",
   "nbconvert_exporter": "python",
   "pygments_lexer": "ipython3",
   "version": "3.11.5"
  }
 },
 "nbformat": 4,
 "nbformat_minor": 5
}
