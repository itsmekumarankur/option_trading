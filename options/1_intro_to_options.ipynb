{
 "cells": [
  {
   "cell_type": "markdown",
   "id": "508e7411-f9a8-4646-a114-cd5b68e7602d",
   "metadata": {},
   "source": [
    "### Introduction to Options:\n",
    "\n",
    "- What are options?\n",
    "- Difference between options and stocks.\n",
    "- Basic terminology: calls, puts, strike price, expiration date, premium, etc."
   ]
  },
  {
   "cell_type": "code",
   "execution_count": 1,
   "id": "ca39cb28-a0b0-49f4-8ad5-95d691dc0630",
   "metadata": {
    "tags": []
   },
   "outputs": [
    {
     "name": "stdout",
     "output_type": "stream",
     "text": [
      "Options: are financial derivatives that give the holder the right, but not the obligation, to buy or sell an underlying asset at a predetermined price (the strike price) within a specified period (until expiration).\n",
      "\n",
      "difference between options and stocks ?\n",
      "\n",
      "- Options are derivatives, while stocks represent ownership in a company.\n",
      "- When you buy a stock, you become a partial owner of the company and share in its profits and losses.\n",
      "- On the other hand, when you buy an option, you are purchasing the right to buy or sell the stock at a specific price, but you do not own the stock itself.\n",
      "- Options typically have expiration dates, while stocks can be held indefinitely.\n",
      "\n",
      "\n",
      "Calls:  if you have a call for a stock, it means you have the right to buy that stock at a certain price, no matter if the stock's price in the market goes up.\n",
      "\n",
      "Puts: So, if you have a put for a stock, it means you have the right to sell that stock to someone else at a certain price, regardless of whether the stock's market price goes down.\n",
      "\n",
      "The strike price: is the price at which the option holder can buy (for calls) or sell (for puts) the underlying asset.\n",
      "\n",
      "The expiration date: is the date by which the option must be exercised or it becomes worthless.\n",
      "\n",
      "The premium: is the price paid to buy the option. It represents the cost of the option contract.\n",
      "\n"
     ]
    }
   ],
   "source": [
    "import time\n",
    "\n",
    "class OptionsExplanation:\n",
    "    def __init__(self):\n",
    "        self.options = \"Options: are financial derivatives that give the holder the right, but not the obligation, to buy or sell an underlying asset at a predetermined price (the strike price) within a specified period (until expiration).\\n\"\n",
    "        self.calls = \"Calls:  if you have a call for a stock, it means you have the right to buy that stock at a certain price, no matter if the stock's price in the market goes up.\\n\"\n",
    "        self.puts = \"Puts: So, if you have a put for a stock, it means you have the right to sell that stock to someone else at a certain price, regardless of whether the stock's market price goes down.\\n\"\n",
    "        self.strike_price = \"The strike price: is the price at which the option holder can buy (for calls) or sell (for puts) the underlying asset.\\n\"\n",
    "        self.expiration_date = \"The expiration date: is the date by which the option must be exercised or it becomes worthless.\\n\"\n",
    "        self.premium = \"The premium: is the price paid to buy the option. It represents the cost of the option contract.\\n\"\n",
    "\n",
    "    def explain_optionsvs_stocks(self):\n",
    "        print(\"difference between options and stocks ?\\n\")\n",
    "        print(\"- Options are derivatives, while stocks represent ownership in a company.\")\n",
    "        print(\"- When you buy a stock, you become a partial owner of the company and share in its profits and losses.\")\n",
    "        print(\"- On the other hand, when you buy an option, you are purchasing the right to buy or sell the stock at a specific price, but you do not own the stock itself.\")\n",
    "        print(\"- Options typically have expiration dates, while stocks can be held indefinitely.\\n\\n\")\n",
    "    def explain_options(self):\n",
    "        print(self.options)\n",
    "    def explain_calls(self):\n",
    "        print(self.calls)\n",
    "    \n",
    "    def explain_puts(self):\n",
    "        print(self.puts)\n",
    "\n",
    "    def explain_strike_price(self):\n",
    "        print(self.strike_price)\n",
    "\n",
    "    def explain_expiration_date(self):\n",
    "        print(self.expiration_date)\n",
    "\n",
    "    def explain_premium(self):\n",
    "        print(self.premium)\n",
    "\n",
    "# Create an instance of OptionsExplanation\n",
    "options_explanation = OptionsExplanation()\n",
    "\n",
    "# Define a list of explanation methods\n",
    "explanation_methods = [\n",
    "    options_explanation.explain_options,\n",
    "    options_explanation.explain_optionsvs_stocks,\n",
    "    options_explanation.explain_calls,\n",
    "    options_explanation.explain_puts,\n",
    "    options_explanation.explain_strike_price,\n",
    "    options_explanation.explain_expiration_date,\n",
    "    options_explanation.explain_premium\n",
    "]\n",
    "\n",
    "# Execute each explanation method every 10 seconds\n",
    "for method in explanation_methods:\n",
    "    method()\n",
    "    time.sleep(10)\n",
    "\n"
   ]
  },
  {
   "cell_type": "code",
   "execution_count": 2,
   "id": "3b25c978-70c1-4d9b-822d-756dd1b86f2d",
   "metadata": {
    "tags": []
   },
   "outputs": [
    {
     "name": "stdout",
     "output_type": "stream",
     "text": [
      "Let's revise: Options\n",
      "Let's revise: Difference between options and stocks\n",
      "Let's revise: Calls\n",
      "Let's revise: Puts\n",
      "Let's revise: Strike price\n",
      "Let's revise: Expiration date\n",
      "Let's revise: Premium\n"
     ]
    }
   ],
   "source": [
    "import time\n",
    "\n",
    "class OptionsRevision:\n",
    "    def __init__(self):\n",
    "        self.concepts = [\n",
    "            \"Options\",\n",
    "            \"Difference between options and stocks\",\n",
    "            \"Calls\",\n",
    "            \"Puts\",\n",
    "            \"Strike price\",\n",
    "            \"Expiration date\",\n",
    "            \"Premium\"\n",
    "        ]\n",
    "\n",
    "    def revise_concepts(self):\n",
    "        for concept in self.concepts:\n",
    "            print(f\"Let's revise: {concept}\")\n",
    "            time.sleep(35)  # Wait for 5 seconds for each concept\n",
    "\n",
    "# Create an instance of OptionsRevision\n",
    "options_revision = OptionsRevision()\n",
    "\n",
    "# Call the method to revise concepts\n",
    "options_revision.revise_concepts()\n"
   ]
  },
  {
   "cell_type": "code",
   "execution_count": 4,
   "id": "e6fb3bf2-c230-4ea3-8875-5eacd63e0a19",
   "metadata": {
    "tags": []
   },
   "outputs": [
    {
     "name": "stdout",
     "output_type": "stream",
     "text": [
      "Call options give the holder the right to buy the underlying asset at a specified price within a specified period.\n",
      "\n",
      "Put options give the holder the right to sell the underlying asset at a specified price within a specified period.\n",
      "\n",
      "American options can be exercised at any time before expiration, while European options can only be exercised at expiration.\n",
      "\n",
      "European options can only be exercised at the expiration date, unlike American options which can be exercised at any time before expiration.\n",
      "\n"
     ]
    }
   ],
   "source": [
    "class OptionsUnderstanding:\n",
    "    def __init__(self):\n",
    "        self.call_options = \"Call options give the holder the right to buy the underlying asset at a specified price within a specified period.\\n\"\n",
    "        self.put_options = \"Put options give the holder the right to sell the underlying asset at a specified price within a specified period.\\n\"\n",
    "        self.american_options = \"American options can be exercised at any time before expiration, while European options can only be exercised at expiration.\\n\"\n",
    "        self.european_options = \"European options can only be exercised at the expiration date, unlike American options which can be exercised at any time before expiration.\\n\"\n",
    "\n",
    "    def explain_call_options(self):\n",
    "        print(self.call_options)\n",
    "\n",
    "    def explain_put_options(self):\n",
    "        print(self.put_options)\n",
    "\n",
    "    def explain_american_vs_european_options(self):\n",
    "        print(self.american_options)\n",
    "\n",
    "    def explain_european_options(self):\n",
    "        print(self.european_options)\n",
    "\n",
    "options_understanding = OptionsUnderstanding()\n",
    "\n",
    "# Define a list of explanation methods\n",
    "explanation_methods = [\n",
    "    options_understanding.explain_call_options,\n",
    "    options_understanding.explain_put_options,\n",
    "    options_understanding.explain_american_vs_european_options,\n",
    "    options_understanding.explain_european_options\n",
    "]\n",
    "\n",
    "# Execute each explanation method every 10 seconds\n",
    "for method in explanation_methods:\n",
    "    method()\n",
    "    time.sleep(10)\n"
   ]
  },
  {
   "cell_type": "code",
   "execution_count": 5,
   "id": "2f2db82e-9166-4979-b6b7-a460e8fc5a97",
   "metadata": {
    "tags": []
   },
   "outputs": [
    {
     "name": "stdout",
     "output_type": "stream",
     "text": [
      "Let's revise: Call options\n",
      "Let's revise: Put options\n",
      "Let's revise: American vs. European options\n"
     ]
    }
   ],
   "source": [
    "import time\n",
    "\n",
    "class OptionsRevision:\n",
    "    def __init__(self):\n",
    "        self.concepts = [\n",
    "            \"Call options\",\n",
    "            \"Put options\",\n",
    "            \"American vs. European options\"\n",
    "        ]\n",
    "\n",
    "    def revise_concepts(self):\n",
    "        for concept in self.concepts:\n",
    "            print(f\"Let's revise: {concept}\")\n",
    "            time.sleep(5)  # Wait for 5 seconds for each concept\n",
    "\n",
    "# Create an instance of OptionsRevision\n",
    "options_revision = OptionsRevision()\n",
    "\n",
    "# Call the method to revise concepts\n",
    "options_revision.revise_concepts()"
   ]
  },
  {
   "cell_type": "code",
   "execution_count": null,
   "id": "8470954b-402d-475f-9551-e80c674dc102",
   "metadata": {},
   "outputs": [],
   "source": []
  }
 ],
 "metadata": {
  "kernelspec": {
   "display_name": "Python 3 (ipykernel)",
   "language": "python",
   "name": "python3"
  },
  "language_info": {
   "codemirror_mode": {
    "name": "ipython",
    "version": 3
   },
   "file_extension": ".py",
   "mimetype": "text/x-python",
   "name": "python",
   "nbconvert_exporter": "python",
   "pygments_lexer": "ipython3",
   "version": "3.11.5"
  }
 },
 "nbformat": 4,
 "nbformat_minor": 5
}
